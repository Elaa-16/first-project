{
 "cells": [
  {
   "cell_type": "code",
   "execution_count": 2,
   "id": "234b0ba0-6b6c-44ec-b2fa-7b5beb0fd14c",
   "metadata": {},
   "outputs": [
    {
     "name": "stdout",
     "output_type": "stream",
     "text": [
      "✅ XOR-2: Accuracy = 1.00 | Hidden: (3,) | Solver: lbfgs\n",
      "✅ XOR-3: Accuracy = 1.00 | Hidden: (5,) | Solver: lbfgs\n",
      "✅ XOR-4: Accuracy = 1.00 | Hidden: 5 | Solver: lbfgs\n",
      "✅ XOR-5: Accuracy = 1.00 | Hidden: (10, 6) | Solver: lbfgs\n",
      "✅ XOR-6: Accuracy = 1.00 | Hidden: (10, 6) | Solver: lbfgs\n",
      "✅ XOR-7: Accuracy = 1.00 | Hidden: (10, 6) | Solver: lbfgs\n",
      "✅ XOR-8: Accuracy = 1.00 | Hidden: (30, 20) | Solver: lbfgs\n",
      "✅ XOR-9: Accuracy = 1.00 | Hidden: (30, 20) | Solver: lbfgs\n",
      "✅ XOR-10: Accuracy = 1.00 | Hidden: (30, 20) | Solver: lbfgs\n"
     ]
    }
   ],
   "source": [
    "import pandas as pd\n",
    "from sklearn.neural_network import MLPClassifier\n",
    "from sklearn.metrics import accuracy_score\n",
    "import matplotlib.pyplot as plt\n",
    "\n",
    "# Your model parameters for each XOR size\n",
    "params = {\n",
    "    2: {'hidden_layer_sizes': (3,), 'activation': 'tanh', 'solver': 'lbfgs', 'max_iter': 2000},\n",
    "    3: {'hidden_layer_sizes': (5,), 'activation': 'tanh', 'solver': 'lbfgs', 'max_iter': 2000},\n",
    "    4: {'hidden_layer_sizes': (5), 'activation': 'tanh', 'solver': 'lbfgs', 'max_iter': 2500},\n",
    "    5: {'hidden_layer_sizes': (10,6), 'activation': 'tanh', 'solver': 'lbfgs', 'max_iter': 4000},\n",
    "    6: {'hidden_layer_sizes': (10,6), 'activation': 'tanh', 'solver': 'lbfgs', 'max_iter': 4500},\n",
    "    7: {'hidden_layer_sizes': (10,6), 'activation': 'tanh', 'solver': 'lbfgs', 'max_iter': 5000},\n",
    "    8: {'hidden_layer_sizes': (30,20), 'activation': 'relu', 'solver': 'lbfgs', 'max_iter': 5000},\n",
    "    9: {'hidden_layer_sizes': (30,20), 'activation': 'relu', 'solver': 'lbfgs', 'max_iter': 5500},\n",
    "    10:{'hidden_layer_sizes': (30,20), 'activation': 'relu', 'solver': 'lbfgs', 'max_iter': 6000}\n",
    "}\n",
    "\n",
    "def load_data(n):\n",
    "    df = pd.read_csv(f\"xor_{n}.csv\")\n",
    "    X = df.iloc[:, :-1].values\n",
    "    y = df.iloc[:, -1].values\n",
    "    return X, y\n",
    "\n",
    "def build_model(cfg):\n",
    "    return MLPClassifier(\n",
    "        hidden_layer_sizes=cfg['hidden_layer_sizes'],\n",
    "        activation=cfg['activation'],\n",
    "        solver=cfg['solver'],\n",
    "        max_iter=cfg['max_iter'],\n",
    "        random_state=42,\n",
    "        verbose=True,\n",
    "        tol=1e-6\n",
    "        \n",
    "    )\n",
    "\n",
    "def train_and_evaluate(n, cfg):\n",
    "    X, y = load_data(n)\n",
    "    model = build_model(cfg)\n",
    "    model.fit(X, y)\n",
    "    preds = model.predict(X)\n",
    "    acc = accuracy_score(y, preds)\n",
    "    print(f\"✅ XOR-{n}: Accuracy = {acc:.2f} | Hidden: {cfg['hidden_layer_sizes']} | Solver: {cfg['solver']}\")\n",
    "    return model\n",
    "\n",
    "def plot_loss(model, n):\n",
    "    if hasattr(model, 'loss_curve_'):\n",
    "        plt.figure(figsize=(8,4))\n",
    "        plt.plot(model.loss_curve_, marker='o')\n",
    "        plt.title(f\"Loss vs Iterations for XOR-{n}\")\n",
    "        plt.xlabel(\"Iterations\")\n",
    "        plt.ylabel(\"Loss\")\n",
    "        plt.grid(True)\n",
    "        plt.show()\n",
    "\n",
    "def main():\n",
    "    for n in range(2, 11):\n",
    "        cfg = params[n]\n",
    "        model = train_and_evaluate(n, cfg)\n",
    "        plot_loss(model, n)\n",
    "\n",
    "if __name__ == \"__main__\":\n",
    "    main()\n"
   ]
  },
  {
   "cell_type": "code",
   "execution_count": null,
   "id": "25c51634-3954-499d-98e3-f78bfd5de946",
   "metadata": {},
   "outputs": [],
   "source": []
  }
 ],
 "metadata": {
  "kernelspec": {
   "display_name": "Python 3 (ipykernel)",
   "language": "python",
   "name": "python3"
  },
  "language_info": {
   "codemirror_mode": {
    "name": "ipython",
    "version": 3
   },
   "file_extension": ".py",
   "mimetype": "text/x-python",
   "name": "python",
   "nbconvert_exporter": "python",
   "pygments_lexer": "ipython3",
   "version": "3.13.5"
  }
 },
 "nbformat": 4,
 "nbformat_minor": 5
}
